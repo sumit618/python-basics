{
  "nbformat": 4,
  "nbformat_minor": 0,
  "metadata": {
    "colab": {
      "provenance": []
    },
    "kernelspec": {
      "name": "python3",
      "display_name": "Python 3"
    },
    "language_info": {
      "name": "python"
    }
  },
  "cells": [
    {
      "cell_type": "markdown",
      "source": [
        "#PYTHON BASICS QUATIONS"
      ],
      "metadata": {
        "id": "fzYclHnxJIFO"
      }
    },
    {
      "cell_type": "markdown",
      "source": [
        "1. What is Python, and why is it popular ?\n",
        "   \n",
        "  - Python is a high level programing language . Its konown for versatility, readability and simplicity. Its mainly popular due to easy-to-learn syntax and a large standard library. It is also beginner-friendly.\n",
        "\n",
        "\n",
        "2. What is an interpreter in Python?\n",
        "  - An interpreter in Python is a program that executes Python code line by line. Also the interpreter takes python code and translate in to the machine code, the low lavel language that the computer's processor can understand and execute.\n",
        "\n",
        "3. What are pre-defined keywords in Python?\n",
        "  - Pre-defined keywords in Python are reserved words that have special meanings and are used to perform specific functions or tasks. That cannot be used as variable names, function names, or other identifiers. They are essential for the structure and functionality of the language.\n",
        "\n",
        "\n",
        "4. Can keywords be used as variable names?\n",
        "  - No, keywords cannot be used as variable names in python.\n",
        "\n",
        "\n",
        "5.  What is mutability in Python?\n",
        "   - In python, mutability refers to the ability of an object can be  changed after it has been created.\n",
        "\n",
        "\n",
        "6. Why are lists mutable, but tuples are immutable?\n",
        "  - Lists in Python are mutable, and tuples are immutable due to the fundamental design choices of Python, which are based on the intended use cases, performance needs, and memory management. In python,list are mutable, means we can change their contents after they are created but on the other hand, tuples are immutable. Once a tuple is created, it's elements cannot be changed.\n",
        "\n",
        "\n",
        "7. What is the difference between “==” and “is” operators in Python?\n",
        "  - The difference between \"==\" and \"is\" operators in python is,\n",
        "  the \"==\" operator is equality operator , it compares the content, values and data stored in the objects, not their memory locations. On the other hand, the \"is\" is indentify it compares the identity of the objects, not their values.\n",
        "\n",
        "\n",
        "8. What are logical operators in Python?\n",
        "  - Logical operators in Python are used to combine conditional statements and perform logical operations.These operators allow us to creat more complex conditions within our code and determine their overall truth value , true or false.Python provides three logical operators \"and\", \"or\",\"not\".\n",
        "\n",
        "9. What is type casting in Python?\n",
        "  \n",
        "  - Type casting in Python refers to the process of converting one data type into another. This can be done to make incompatible types work together or to meet specific requirements of an operation.\n",
        "\n",
        "10. What is the difference between implicit and explicit type casting?\n",
        "\n",
        "  - implicit type casting =\n",
        "    Python automatically converts one data type to another where it's safe to do so, without the programmer's intervention.\n",
        "\n",
        "    explicit type casting =\n",
        "    The programmer manually converts one data type to another using functions like int(), float(), or str().\n",
        "\n",
        "11. What is the purpose of conditional statements in Python?\n",
        "   \n",
        "   - Conditional statements in Python allow the program to make decisions and execute specific blocks of code based on certain conditions. They control the flow of execution based on if, elif, and else clauses.\n",
        "\n",
        "\n",
        "12. How does the elif statement work?\n",
        "\n",
        "   - The elif (short for \"else if\") statement is used to test multiple conditions in sequence. It is evaluated only if the previous if or elif condition is False. Once an elif condition evaluates to True, the corresponding block of code runs, and the rest of the conditions are ignored.\n",
        "\n",
        "\n",
        "13. What is the difference between for and while loops?\n",
        "\n",
        "    - for loop = Iterates over a sequence (like list, range, string).\tAutomatically stops after completing the sequence.\tMore compact and better for finite loops.\n",
        "\n",
        "    - while loop = Repeats based on a condition.Stops when the specified condition becomes False.More flexible for indefinite loops.\n",
        "\n",
        "\n",
        "\n",
        "                 \n",
        "\n",
        "\n",
        "\n",
        "\n",
        "\n",
        "\n",
        "\n",
        "\n",
        "\n",
        "\n",
        "\n",
        "\n",
        "\n",
        "\n",
        "\n",
        "\n",
        "\n",
        "\n",
        "\n",
        "\n",
        "\n"
      ],
      "metadata": {
        "id": "NkhJNh0UJe-l"
      }
    },
    {
      "cell_type": "markdown",
      "source": [
        "# PYTHON PRACTICAL"
      ],
      "metadata": {
        "id": "F1bHdOJg7uFs"
      }
    },
    {
      "cell_type": "code",
      "source": [
        "# 1. write a program to print hello world in python\n",
        "\n",
        "\n",
        "print(\"hello world\")"
      ],
      "metadata": {
        "id": "UodRbGIP5c4P"
      },
      "execution_count": null,
      "outputs": []
    },
    {
      "cell_type": "code",
      "source": [
        "# 2. write a python program that display your name and age.\n",
        "\n",
        "\n",
        "name = \"Sumit Nayak\"\n",
        "age = 21\n",
        "\n",
        "print(\"My name is:\", name)\n",
        "print(\"My age is:\", age)\n"
      ],
      "metadata": {
        "id": "h4_p7yReU984"
      },
      "execution_count": null,
      "outputs": []
    },
    {
      "cell_type": "code",
      "source": [
        "# 3. Write code to print all the pre-defined keywords in Python using the keyword library.\n",
        "\n",
        "import keyword\n",
        "\n",
        "keywords = keyword.kwlist\n",
        "\n",
        "print(\"The predefined keywords in Python are:\")\n",
        "for kw in keywords:\n",
        "    print(kw)\n"
      ],
      "metadata": {
        "id": "wt0fRQlRJK-U"
      },
      "execution_count": null,
      "outputs": []
    },
    {
      "cell_type": "code",
      "execution_count": null,
      "metadata": {
        "id": "mUlr33r-IyoK"
      },
      "outputs": [],
      "source": [
        "# 4. Write a program that checks if a given word is a Python keyword.\n",
        "\n",
        "import keyword\n",
        "\n",
        "word = input(\"Enter a word to check if it's a Python keyword: \")\n",
        "\n",
        "if keyword.iskeyword(word):\n",
        "    print(f\"'(word)' is a Python keyword.\")\n",
        "else:\n",
        "    print(f\"'(word)' is NOT a Python keyword.\")\n"
      ]
    },
    {
      "cell_type": "code",
      "source": [
        "# 6. Write a function to demonstrate the behavior of mutable and immutable arguments.\n",
        "\n",
        "def demonstrate_args(mutable_arg, immutable_arg):\n",
        "\n",
        "    mutable_arg.append(99)\n",
        "    print(\"Inside function - Mutable argument (list) after modification:\", mutable_arg)\n",
        "# 6. Write a function to demonstrate the behavior of mutable and immutable arguments.\n",
        "\n",
        "def demonstrate_args(mutable_arg, immutable_arg):\n",
        "\n",
        "    mutable_arg.append(99)\n",
        "    print(\"Inside function - Mutable argument (list) after modification:\", mutable_arg)\n",
        "\n",
        "    immutable_arg += 10\n",
        "    print(\"Inside function - Immutable argument (integer) after modification:\", immutable_arg)\n",
        "\n",
        "mutable_list = [1, 2, 3]\n",
        "\n",
        "immutable_int = 42\n",
        "\n",
        "print(\"Before function call:\")\n",
        "print(\"Mutable argument (list):\", mutable_list)\n",
        "print(\"Immutable argument (integer):\", immutable_int)\n",
        "\n",
        "demonstrate_args(mutable_list, immutable_int)\n",
        "\n",
        "print(\"\\nAfter function call:\")\n",
        "print(\"Mutable argument (list):\", mutable_list)\n",
        "print(\"Immutable argument (integer):\", immutable_int)\n",
        "\n",
        "immutable_int = 42\n",
        "\n",
        "print(\"Before function call:\")\n",
        "print(\"Mutable argument (list):\", mutable_list)\n",
        "print(\"Immutable argument (integer):\", immutable_int)\n",
        "\n",
        "demonstrate_args(mutable_list, immutable_int)\n",
        "\n",
        "print(\"\\nAfter function call:\")\n",
        "print(\"Mutable argument (list):\", mutable_list)\n",
        "print(\"Immutable argument (integer):\", immutable_int)\n",
        "\n",
        "\n"
      ],
      "metadata": {
        "id": "T5hPC3YZ-waK",
        "colab": {
          "base_uri": "https://localhost:8080/"
        },
        "outputId": "94821393-b129-46aa-bf53-76bb79b8810e"
      },
      "execution_count": null,
      "outputs": [
        {
          "output_type": "stream",
          "name": "stdout",
          "text": [
            "Before function call:\n",
            "Mutable argument (list): [1, 2, 3]\n",
            "Immutable argument (integer): 42\n",
            "Inside function - Mutable argument (list) after modification: [1, 2, 3, 99]\n",
            "Inside function - Immutable argument (integer) after modification: 52\n",
            "\n",
            "After function call:\n",
            "Mutable argument (list): [1, 2, 3, 99]\n",
            "Immutable argument (integer): 42\n",
            "Before function call:\n",
            "Mutable argument (list): [1, 2, 3, 99]\n",
            "Immutable argument (integer): 42\n",
            "Inside function - Mutable argument (list) after modification: [1, 2, 3, 99, 99]\n",
            "Inside function - Immutable argument (integer) after modification: 52\n",
            "\n",
            "After function call:\n",
            "Mutable argument (list): [1, 2, 3, 99, 99]\n",
            "Immutable argument (integer): 42\n"
          ]
        }
      ]
    }
  ]
}